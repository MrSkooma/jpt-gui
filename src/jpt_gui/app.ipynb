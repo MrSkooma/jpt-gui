{
 "cells": [
  {
   "cell_type": "code",
   "execution_count": null,
   "id": "9d9bfa67-89c1-4aae-9553-babad301e844",
   "metadata": {},
   "outputs": [],
   "source": [
    "from dash import jupyter_dash\n",
    "jupyter_dash.infer_jupyter_proxy_config()\n",
    "\n",
    "if 'dash_mode' in locals():\n",
    "    jupyter_dash.default_mode = \"dash_mode\"\n",
    "else:\n",
    "    jupyter_dash.default_mode = \"tab\"\n",
    "    \n",
    "from app import app\n",
    "app.run(debug=False)"
   ]
  }
 ],
 "metadata": {
  "kernelspec": {
   "display_name": "jpt-gui",
   "language": "python",
   "name": "jpt-gui"
  },
  "language_info": {
   "codemirror_mode": {
    "name": "ipython",
    "version": 3
   },
   "file_extension": ".py",
   "mimetype": "text/x-python",
   "name": "python",
   "nbconvert_exporter": "python",
   "pygments_lexer": "ipython3",
   "version": "3.8.10"
  }
 },
 "nbformat": 4,
 "nbformat_minor": 5
}
