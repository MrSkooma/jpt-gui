{
 "cells": [
  {
   "cell_type": "code",
   "execution_count": null,
   "outputs": [],
   "source": [
    "import json\n",
    "\n",
    "from jpt_gui_jnb import jnb\n",
    "import os\n",
    "#Basic Code to load GUI withe out. data cant be loaded to later date!\n",
    "%run {jnb.app_path(os.getcwd())} "
   ],
   "metadata": {
    "collapsed": false
   },
   "id": "4a5545b153ccf6a7"
  },
  {
   "cell_type": "code",
   "execution_count": null,
   "outputs": [],
   "source": [
    "from jpt_gui_jnb import jnb\n",
    "import os\n",
    "\n",
    "#GUI withe tree from a file, path is relativ from nodebook!\n",
    "%run {jnb.app_path(os.getcwd(), \"-f youre_file_path_relativ_to_YNB\")} "
   ],
   "metadata": {
    "collapsed": false
   },
   "id": "9da3888da25f67e4"
  },
  {
   "cell_type": "code",
   "execution_count": null,
   "outputs": [],
   "source": [
    "from jpt_gui_jnb import jnb\n",
    "import os\n",
    "#Runs it in an extra Tab\n",
    "%run {jnb.app_path(os.getcwd(), \"-j tab\")} "
   ],
   "metadata": {
    "collapsed": false
   },
   "id": "824e67c53502d611"
  },
  {
   "cell_type": "code",
   "execution_count": null,
   "outputs": [],
   "source": [
    "from jpt_gui_jnb import jnb\n",
    "import os\n",
    "#expirmental!\n",
    "# Run it in extra jupyterlab tab dosn't work withe every IDE etc.\n",
    "%run {jnb.app_path(os.getcwd(), \"-j jupyterlab\")} #should open new tap?"
   ],
   "metadata": {
    "collapsed": false
   },
   "id": "6ef4f0eb59d00852"
  },
  {
   "cell_type": "code",
   "execution_count": null,
   "outputs": [],
   "source": [
    "from jpt_gui_jnb import jnb\n",
    "import os\n",
    "# Run classic loads the gui just on the adress given or basic http://127.0.0.1:8050/\n",
    "%run {jnb.app_path(os.getcwd(), \"-j external\")}"
   ],
   "metadata": {
    "collapsed": false
   },
   "id": "9f084019389db3d8"
  },
  {
   "cell_type": "code",
   "execution_count": null,
   "outputs": [],
   "source": [
    "from jpt_gui_jnb import jnb\n",
    "import os\n",
    "import jpt\n",
    "import json\n",
    "\n",
    "tree = jpt.JPT([jpt.variables.NumericVariable(\"Baum\")])\n",
    "arguments = \"-t \" + tree.to_json().__str__()\n",
    "arguments += \" -p 8050\"\n",
    "%run {jnb.app_path(os.getcwd(), arguments)} "
   ],
   "metadata": {
    "collapsed": false
   },
   "id": "2bde8a8764b55573"
  },
  {
   "cell_type": "code",
   "execution_count": null,
   "outputs": [],
   "source": [
    "import sklearn.datasets\n",
    "from jpt_gui_jnb import jnb\n",
    "import os\n",
    "import jpt\n",
    "\n",
    "data = sklearn.datasets.load_breast_cancer(as_frame=True)\n",
    "\n",
    "df = data.data\n",
    "target = data.target\n",
    "target[target == 1] = \"malignant\"\n",
    "target[target == 0] = \"friendly\"\n",
    "\n",
    "df[\"malignant\"] = target\n",
    "\n",
    "\n",
    "variables = jpt.variables.infer_from_dataframe(df)\n",
    "\n",
    "model = jpt.trees.JPT(variables, min_samples_leaf=1/569)\n",
    "\n",
    "model.fit(df)"
   ],
   "metadata": {
    "collapsed": false
   },
   "id": "fed7152831e97c27"
  },
  {
   "cell_type": "code",
   "execution_count": null,
   "outputs": [],
   "source": [
    "data = {'-t': model}\n",
    "pre = jnb.app_path(os.getcwd(), data)\n",
    "\n",
    "%run {pre}"
   ],
   "metadata": {
    "collapsed": false
   },
   "id": "c26011bf44a4ec12"
  },
  {
   "cell_type": "code",
   "execution_count": 1,
   "outputs": [
    {
     "ename": "ModuleNotFoundError",
     "evalue": "No module named 'components'",
     "output_type": "error",
     "traceback": [
      "\u001B[0;31m---------------------------------------------------------------------------\u001B[0m",
      "\u001B[0;31mModuleNotFoundError\u001B[0m                       Traceback (most recent call last)",
      "Cell \u001B[0;32mIn[1], line 1\u001B[0m\n\u001B[0;32m----> 1\u001B[0m \u001B[38;5;28;01mfrom\u001B[39;00m \u001B[38;5;21;01mjpt_gui\u001B[39;00m \u001B[38;5;28;01mimport\u001B[39;00m app\n\u001B[1;32m      2\u001B[0m app\u001B[38;5;241m.\u001B[39mrun()\n",
      "File \u001B[0;32m~/PyProjects/jpt-gui/src/jpt_gui/app.py:10\u001B[0m\n\u001B[1;32m      8\u001B[0m \u001B[38;5;28;01mfrom\u001B[39;00m \u001B[38;5;21;01mdash\u001B[39;00m \u001B[38;5;28;01mimport\u001B[39;00m dcc, Input, Output\n\u001B[1;32m      9\u001B[0m \u001B[38;5;28;01mimport\u001B[39;00m \u001B[38;5;21;01mjson\u001B[39;00m\n\u001B[0;32m---> 10\u001B[0m \u001B[38;5;28;01mimport\u001B[39;00m \u001B[38;5;21;01mcomponents\u001B[39;00m \u001B[38;5;28;01mas\u001B[39;00m \u001B[38;5;21;01mc\u001B[39;00m\n\u001B[1;32m     11\u001B[0m \u001B[38;5;28;01mimport\u001B[39;00m \u001B[38;5;21;01msys\u001B[39;00m\u001B[38;5;241m,\u001B[39m \u001B[38;5;21;01mgetopt\u001B[39;00m\n\u001B[1;32m     13\u001B[0m \u001B[38;5;124;03m'''\u001B[39;00m\n\u001B[1;32m     14\u001B[0m \u001B[38;5;124;03mThis is the main Programming where the Server will be started and the navigator are constructed.\u001B[39;00m\n\u001B[1;32m     15\u001B[0m \u001B[38;5;124;03m'''\u001B[39;00m\n",
      "\u001B[0;31mModuleNotFoundError\u001B[0m: No module named 'components'"
     ]
    }
   ],
   "source": [],
   "metadata": {
    "collapsed": false,
    "ExecuteTime": {
     "end_time": "2023-10-09T12:51:22.398670365Z",
     "start_time": "2023-10-09T12:51:20.950884843Z"
    }
   },
   "id": "cefa8cc2192cb53b"
  }
 ],
 "metadata": {
  "kernelspec": {
   "name": "jpt-gui",
   "language": "python",
   "display_name": "jpt-gui"
  },
  "language_info": {
   "codemirror_mode": {
    "name": "ipython",
    "version": 2
   },
   "file_extension": ".py",
   "mimetype": "text/x-python",
   "name": "python",
   "nbconvert_exporter": "python",
   "pygments_lexer": "ipython2",
   "version": "2.7.6"
  }
 },
 "nbformat": 4,
 "nbformat_minor": 5
}
