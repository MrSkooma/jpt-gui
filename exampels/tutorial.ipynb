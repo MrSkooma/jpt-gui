{
 "cells": [
  {
   "cell_type": "code",
   "execution_count": null,
   "outputs": [],
   "source": [
    "import json\n",
    "\n",
    "from jpt_gui_jnb import jnb\n",
    "import os\n",
    "#Basic Code to load GUI withe out. data cant be loaded to later date!\n",
    "%run {jnb.app_path(os.getcwd())} "
   ],
   "metadata": {
    "collapsed": false
   },
   "id": "4a5545b153ccf6a7"
  },
  {
   "cell_type": "code",
   "execution_count": null,
   "outputs": [],
   "source": [
    "from jpt_gui_jnb import jnb\n",
    "import os\n",
    "\n",
    "#GUI withe tree from a file, path is relativ from nodebook!\n",
    "%run {jnb.app_path(os.getcwd(), \"-f youre_file_path_relativ_to_YNB\")} "
   ],
   "metadata": {
    "collapsed": false
   },
   "id": "9da3888da25f67e4"
  },
  {
   "cell_type": "code",
   "execution_count": null,
   "outputs": [],
   "source": [
    "from jpt_gui_jnb import jnb\n",
    "import os\n",
    "#Runs it in an extra Tab\n",
    "%run {jnb.app_path(os.getcwd(), \"-j tab\")} "
   ],
   "metadata": {
    "collapsed": false
   },
   "id": "824e67c53502d611"
  },
  {
   "cell_type": "code",
   "execution_count": null,
   "outputs": [],
   "source": [
    "from jpt_gui_jnb import jnb\n",
    "import os\n",
    "#expirmental!\n",
    "# Run it in extra jupyterlab tab dosn't work withe every IDE etc.\n",
    "%run {jnb.app_path(os.getcwd(), \"-j jupyterlab\")} #should open new tap?"
   ],
   "metadata": {
    "collapsed": false
   },
   "id": "6ef4f0eb59d00852"
  },
  {
   "cell_type": "code",
   "execution_count": null,
   "outputs": [],
   "source": [
    "from jpt_gui_jnb import jnb\n",
    "import os\n",
    "# Run classic loads the gui just on the adress given or basic http://127.0.0.1:8050/\n",
    "%run {jnb.app_path(os.getcwd(), \"-j external\")}"
   ],
   "metadata": {
    "collapsed": false
   },
   "id": "9f084019389db3d8"
  },
  {
   "cell_type": "code",
   "execution_count": null,
   "outputs": [],
   "source": [
    "from jpt_gui_jnb import jnb\n",
    "import os\n",
    "import jpt\n",
    "import json\n",
    "\n",
    "tree = jpt.JPT([jpt.variables.NumericVariable(\"Baum\")])\n",
    "arguments = \"-t \" + tree.to_json().__str__()\n",
    "arguments += \" -p 8050\"\n",
    "%run {jnb.app_path(os.getcwd(), arguments)} "
   ],
   "metadata": {
    "collapsed": false
   },
   "id": "2bde8a8764b55573"
  },
  {
   "cell_type": "code",
   "execution_count": 1,
   "outputs": [
    {
     "name": "stderr",
     "output_type": "stream",
     "text": [
      "2023-10-06 13:13:23 - \u001B[0m\u001B[38;5;15m\u001B[1m  INFO  \u001B[0m - \u001B[38;5;15mPreprocessing data...\n",
      "\u001B[0m2023-10-06 13:13:23 - \u001B[0m\u001B[38;5;15m\u001B[1m  INFO  \u001B[0m - \u001B[38;5;15mData transformation... 569 x 31\n",
      "\u001B[0m2023-10-06 13:13:23 - \u001B[0m\u001B[38;5;15m\u001B[1m  INFO  \u001B[0m - \u001B[38;5;15mLearning prior distributions...\n",
      "\u001B[0m2023-10-06 13:13:23 - \u001B[0m\u001B[38;5;15m\u001B[1m  INFO  \u001B[0m - \u001B[38;5;15m31 prior distributions learnt in 0:00:00.007825.\n",
      "\u001B[0m2023-10-06 13:13:23 - \u001B[0m\u001B[38;5;15m\u001B[1m  INFO  \u001B[0m - \u001B[38;5;15mStarted learning of 569 x 31 at 2023-10-06 13:13:23.905962 requiring at least 1 samples per leaf\n",
      "\u001B[0m2023-10-06 13:13:23 - \u001B[0m\u001B[38;5;15m\u001B[1m  INFO  \u001B[0m - \u001B[38;5;15mLearning is generative. \n",
      "\u001B[0m2023-10-06 13:13:25 - \u001B[0m\u001B[38;5;15m\u001B[1m  INFO  \u001B[0m - \u001B[38;5;15mLearning took 0:00:01.240371\n",
      "\u001B[0m"
     ]
    },
    {
     "data": {
      "text/plain": "<JPT #innernodes = 568, #leaves = 569 (1137 total)>"
     },
     "execution_count": 1,
     "metadata": {},
     "output_type": "execute_result"
    }
   ],
   "source": [
    "import sklearn.datasets\n",
    "from jpt_gui_jnb import jnb\n",
    "import os\n",
    "import jpt\n",
    "\n",
    "data = sklearn.datasets.load_breast_cancer(as_frame=True)\n",
    "\n",
    "df = data.data\n",
    "target = data.target\n",
    "target[target == 1] = \"malignant\"\n",
    "target[target == 0] = \"friendly\"\n",
    "\n",
    "df[\"malignant\"] = target\n",
    "\n",
    "\n",
    "variables = jpt.variables.infer_from_dataframe(df)\n",
    "\n",
    "model = jpt.trees.JPT(variables, min_samples_leaf=1/569)\n",
    "\n",
    "model.fit(df)"
   ],
   "metadata": {
    "collapsed": false,
    "ExecuteTime": {
     "end_time": "2023-10-06T11:13:25.154079432Z",
     "start_time": "2023-10-06T11:13:22.944769270Z"
    }
   },
   "id": "fed7152831e97c27"
  },
  {
   "cell_type": "code",
   "execution_count": 2,
   "outputs": [
    {
     "name": "stderr",
     "output_type": "stream",
     "text": [
      "IOPub data rate exceeded.\n",
      "The Jupyter server will temporarily stop sending output\n",
      "to the client in order to avoid crashing it.\n",
      "To change this limit, set the config variable\n",
      "`--ServerApp.iopub_data_rate_limit`.\n",
      "\n",
      "Current values:\n",
      "ServerApp.iopub_data_rate_limit=1000000.0 (bytes/sec)\n",
      "ServerApp.rate_limit_window=3.0 (secs)\n",
      "\n"
     ]
    },
    {
     "data": {
      "text/plain": "<IPython.lib.display.IFrame at 0x7f8f1426c5b0>",
      "text/html": "\n        <iframe\n            width=\"100%\"\n            height=\"650\"\n            src=\"http://127.0.0.1:8050/\"\n            frameborder=\"0\"\n            allowfullscreen\n            \n        ></iframe>\n        "
     },
     "metadata": {},
     "output_type": "display_data"
    }
   ],
   "source": [
    "data = {'-t': model}\n",
    "pre = jnb.app_path(os.getcwd(), data)\n",
    "\n",
    "%run {pre}"
   ],
   "metadata": {
    "collapsed": false,
    "ExecuteTime": {
     "end_time": "2023-10-06T11:13:34.569434180Z",
     "start_time": "2023-10-06T11:13:33.849241345Z"
    }
   },
   "id": "c26011bf44a4ec12"
  }
 ],
 "metadata": {
  "kernelspec": {
   "name": "jpt-gui",
   "language": "python",
   "display_name": "jpt-gui"
  },
  "language_info": {
   "codemirror_mode": {
    "name": "ipython",
    "version": 2
   },
   "file_extension": ".py",
   "mimetype": "text/x-python",
   "name": "python",
   "nbconvert_exporter": "python",
   "pygments_lexer": "ipython2",
   "version": "2.7.6"
  }
 },
 "nbformat": 4,
 "nbformat_minor": 5
}
